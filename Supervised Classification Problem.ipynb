{
 "cells": [
  {
   "cell_type": "code",
   "execution_count": 1,
   "id": "bdb5353d-2b0b-4312-b0cf-a0558c54633f",
   "metadata": {},
   "outputs": [],
   "source": [
    "# import numerical python \n",
    "import numpy as np \n",
    "\n",
    "# import the pandas\n",
    "import pandas as pd\n",
    "\n",
    "# import the seaborn\n",
    "import seaborn as sns\n",
    "\n",
    "#import the matplotlib\n",
    "\n",
    "import matplotlib.pyplot as plt"
   ]
  },
  {
   "cell_type": "code",
   "execution_count": 2,
   "id": "8d125963-1a34-4adc-bf17-57295c9c454b",
   "metadata": {},
   "outputs": [],
   "source": [
    "# load the data \n",
    "df_house_price=pd.read_csv('House_Price1.csv')"
   ]
  },
  {
   "cell_type": "code",
   "execution_count": 3,
   "id": "532609e6-4630-43d0-970a-befe41dbe92b",
   "metadata": {},
   "outputs": [
    {
     "data": {
      "text/html": [
       "<div>\n",
       "<style scoped>\n",
       "    .dataframe tbody tr th:only-of-type {\n",
       "        vertical-align: middle;\n",
       "    }\n",
       "\n",
       "    .dataframe tbody tr th {\n",
       "        vertical-align: top;\n",
       "    }\n",
       "\n",
       "    .dataframe thead th {\n",
       "        text-align: right;\n",
       "    }\n",
       "</style>\n",
       "<table border=\"1\" class=\"dataframe\">\n",
       "  <thead>\n",
       "    <tr style=\"text-align: right;\">\n",
       "      <th></th>\n",
       "      <th>price</th>\n",
       "      <th>resid_area</th>\n",
       "      <th>air_qual</th>\n",
       "      <th>room_num</th>\n",
       "      <th>age</th>\n",
       "      <th>distance</th>\n",
       "      <th>teachers</th>\n",
       "      <th>poor_prop</th>\n",
       "      <th>airport</th>\n",
       "      <th>n_hos_beds</th>\n",
       "      <th>n_hot_rooms</th>\n",
       "      <th>waterbody</th>\n",
       "      <th>rainfall</th>\n",
       "      <th>bus_ter</th>\n",
       "      <th>Sold</th>\n",
       "    </tr>\n",
       "  </thead>\n",
       "  <tbody>\n",
       "    <tr>\n",
       "      <th>0</th>\n",
       "      <td>24.0</td>\n",
       "      <td>32.31</td>\n",
       "      <td>0.538</td>\n",
       "      <td>6.575</td>\n",
       "      <td>65.2</td>\n",
       "      <td>4.35</td>\n",
       "      <td>24.7</td>\n",
       "      <td>4.98</td>\n",
       "      <td>YES</td>\n",
       "      <td>5.480</td>\n",
       "      <td>11.1920</td>\n",
       "      <td>River</td>\n",
       "      <td>23</td>\n",
       "      <td>YES</td>\n",
       "      <td>0</td>\n",
       "    </tr>\n",
       "    <tr>\n",
       "      <th>1</th>\n",
       "      <td>21.6</td>\n",
       "      <td>37.07</td>\n",
       "      <td>0.469</td>\n",
       "      <td>6.421</td>\n",
       "      <td>78.9</td>\n",
       "      <td>4.99</td>\n",
       "      <td>22.2</td>\n",
       "      <td>9.14</td>\n",
       "      <td>NO</td>\n",
       "      <td>7.332</td>\n",
       "      <td>12.1728</td>\n",
       "      <td>Lake</td>\n",
       "      <td>42</td>\n",
       "      <td>YES</td>\n",
       "      <td>1</td>\n",
       "    </tr>\n",
       "    <tr>\n",
       "      <th>2</th>\n",
       "      <td>34.7</td>\n",
       "      <td>37.07</td>\n",
       "      <td>0.469</td>\n",
       "      <td>7.185</td>\n",
       "      <td>61.1</td>\n",
       "      <td>5.03</td>\n",
       "      <td>22.2</td>\n",
       "      <td>4.03</td>\n",
       "      <td>NO</td>\n",
       "      <td>7.394</td>\n",
       "      <td>101.1200</td>\n",
       "      <td>NaN</td>\n",
       "      <td>38</td>\n",
       "      <td>YES</td>\n",
       "      <td>0</td>\n",
       "    </tr>\n",
       "    <tr>\n",
       "      <th>3</th>\n",
       "      <td>33.4</td>\n",
       "      <td>32.18</td>\n",
       "      <td>0.458</td>\n",
       "      <td>6.998</td>\n",
       "      <td>45.8</td>\n",
       "      <td>6.21</td>\n",
       "      <td>21.3</td>\n",
       "      <td>2.94</td>\n",
       "      <td>YES</td>\n",
       "      <td>9.268</td>\n",
       "      <td>11.2672</td>\n",
       "      <td>Lake</td>\n",
       "      <td>45</td>\n",
       "      <td>YES</td>\n",
       "      <td>0</td>\n",
       "    </tr>\n",
       "    <tr>\n",
       "      <th>4</th>\n",
       "      <td>36.2</td>\n",
       "      <td>32.18</td>\n",
       "      <td>0.458</td>\n",
       "      <td>7.147</td>\n",
       "      <td>54.2</td>\n",
       "      <td>6.16</td>\n",
       "      <td>21.3</td>\n",
       "      <td>5.33</td>\n",
       "      <td>NO</td>\n",
       "      <td>8.824</td>\n",
       "      <td>11.2896</td>\n",
       "      <td>Lake</td>\n",
       "      <td>55</td>\n",
       "      <td>YES</td>\n",
       "      <td>0</td>\n",
       "    </tr>\n",
       "  </tbody>\n",
       "</table>\n",
       "</div>"
      ],
      "text/plain": [
       "   price  resid_area  air_qual  room_num   age  distance  teachers  poor_prop  \\\n",
       "0   24.0       32.31     0.538     6.575  65.2      4.35      24.7       4.98   \n",
       "1   21.6       37.07     0.469     6.421  78.9      4.99      22.2       9.14   \n",
       "2   34.7       37.07     0.469     7.185  61.1      5.03      22.2       4.03   \n",
       "3   33.4       32.18     0.458     6.998  45.8      6.21      21.3       2.94   \n",
       "4   36.2       32.18     0.458     7.147  54.2      6.16      21.3       5.33   \n",
       "\n",
       "  airport  n_hos_beds  n_hot_rooms waterbody  rainfall bus_ter  Sold  \n",
       "0     YES       5.480      11.1920     River        23     YES     0  \n",
       "1      NO       7.332      12.1728      Lake        42     YES     1  \n",
       "2      NO       7.394     101.1200       NaN        38     YES     0  \n",
       "3     YES       9.268      11.2672      Lake        45     YES     0  \n",
       "4      NO       8.824      11.2896      Lake        55     YES     0  "
      ]
     },
     "execution_count": 3,
     "metadata": {},
     "output_type": "execute_result"
    }
   ],
   "source": [
    "# show the first five observation of the data \n",
    "df_house_price.head()"
   ]
  },
  {
   "cell_type": "code",
   "execution_count": 4,
   "id": "63a05a1e-39ab-42c3-8e5e-cc5f2ef4e15b",
   "metadata": {},
   "outputs": [],
   "source": [
    "dictionary={\n",
    "    'price':'Price',\n",
    "    'resid_area':'Residental_Area',\n",
    "    'air_qual':'Air_Quality',\n",
    "     'room_num':'Room_Number',\n",
    "     'age': 'Age',\n",
    "     'distance': 'Distance',\n",
    "      'teachers':'Teacher',\n",
    "     'poor_prop':'Poor_prop',\n",
    "    'airport':'Airport',\n",
    "   'n_hos_beds': 'N_Hos_Beds',\n",
    "    'n_hot_rooms': 'N_Hot_Rooms',\n",
    "    'waterbody':'Waterbody',\n",
    "    'rainfall': 'Rainfall',\n",
    "    'bus_ter':'bus_ter',\n",
    "    'Sold':'Sold',\n",
    "    \n",
    "    \n",
    "    \n",
    "    \n",
    "    \n",
    "     \n",
    "   \n",
    "}"
   ]
  },
  {
   "cell_type": "code",
   "execution_count": 5,
   "id": "4d88b6aa-ef5a-4eb3-8f98-9663e9d2f222",
   "metadata": {},
   "outputs": [],
   "source": [
    "# perform the rename action \n",
    "df_house_price=df_house_price.rename(columns=dictionary)"
   ]
  },
  {
   "cell_type": "code",
   "execution_count": 6,
   "id": "8fe8565f-2648-4164-b2c4-54e029731239",
   "metadata": {},
   "outputs": [],
   "source": [
    "# lets treate the null values in the waterbody column        \n",
    "df_house_price.Waterbody.fillna('River',inplace=True)"
   ]
  },
  {
   "cell_type": "code",
   "execution_count": 7,
   "id": "a26d46fe-549b-4c0a-a4db-997164342ff8",
   "metadata": {},
   "outputs": [],
   "source": [
    "# In N_Hos_Beds , we have less than 10% of data missing\n",
    "df_house_price.dropna(inplace=True)"
   ]
  },
  {
   "cell_type": "code",
   "execution_count": 8,
   "id": "d85d75e0-6a63-4c4b-bbe7-5ed6278e7ff7",
   "metadata": {},
   "outputs": [],
   "source": [
    "# store the target variable\n",
    "df_target =df_house_price['Sold']\n",
    "df_feature=df_house_price.drop('Sold', axis=1)"
   ]
  },
  {
   "cell_type": "code",
   "execution_count": 9,
   "id": "e52105a9-0bc6-4dc5-9073-0b40c025e8e4",
   "metadata": {},
   "outputs": [],
   "source": [
    "## segregate the data based on the datatype\n",
    "df_num=df_feature.select_dtypes(include='number')\n",
    "df_cat=df_feature.select_dtypes(include='object')"
   ]
  },
  {
   "cell_type": "code",
   "execution_count": 10,
   "id": "3df2c23e-cd2a-4316-a2ea-a0cfb7714862",
   "metadata": {},
   "outputs": [],
   "source": [
    "# use dummy encoding\n",
    "df_encoded=pd.get_dummies(df_cat)\n",
    "# reset the index\n",
    "df_enocded=df_encoded.reset_index()"
   ]
  },
  {
   "cell_type": "code",
   "execution_count": 11,
   "id": "d92c3922-4495-41da-8e6b-f106a6eee1a8",
   "metadata": {},
   "outputs": [],
   "source": [
    "# import the standard scalar\n",
    "from sklearn.preprocessing import StandardScaler\n",
    "\n",
    "# initate the standard scalar\n",
    "ss=StandardScaler()\n"
   ]
  },
  {
   "cell_type": "code",
   "execution_count": 12,
   "id": "cc0c918c-1c21-4629-9777-737087b1b81a",
   "metadata": {},
   "outputs": [],
   "source": [
    "# scaled the value present in numerical data frame\n",
    "scaled=ss.fit_transform(df_num)\n"
   ]
  },
  {
   "cell_type": "code",
   "execution_count": 13,
   "id": "1dd80ef5-90ae-4892-993a-56a7dd38a689",
   "metadata": {},
   "outputs": [],
   "source": [
    "# numerate the data into the data frame\n",
    "scaled_df=pd.DataFrame(scaled,columns=df_num.columns)\n"
   ]
  },
  {
   "cell_type": "code",
   "execution_count": 14,
   "id": "d8d813de-b245-45b0-917f-7713d36c8f43",
   "metadata": {},
   "outputs": [],
   "source": [
    "#reset the index\n",
    "scaled_df=scaled_df.reset_index()"
   ]
  },
  {
   "cell_type": "code",
   "execution_count": 15,
   "id": "914ced8c-80d6-49b2-8567-1cc9ec69772c",
   "metadata": {},
   "outputs": [],
   "source": [
    "# import the train test split\n",
    "from sklearn.model_selection import train_test_split"
   ]
  },
  {
   "cell_type": "code",
   "execution_count": 18,
   "id": "8a46323a-5d23-45ae-94ac-bc2bce8e93fb",
   "metadata": {},
   "outputs": [],
   "source": [
    "# concodinate encoded variable and scaled variable\n",
    "df_independent=pd.concat([df_encoded,scaled_df],axis=1)"
   ]
  },
  {
   "cell_type": "code",
   "execution_count": 20,
   "id": "f90cbd7d-6ed1-4ec0-9618-09ae629340d2",
   "metadata": {},
   "outputs": [
    {
     "data": {
      "text/plain": [
       "(498, 7)"
      ]
     },
     "execution_count": 20,
     "metadata": {},
     "output_type": "execute_result"
    }
   ],
   "source": [
    "encoding = pd.get_dummies(df_cat)\n",
    "encoding = encoding.reset_index()\n",
    "encoding.shape"
   ]
  },
  {
   "cell_type": "code",
   "execution_count": 22,
   "id": "e9543d9a-0af6-4b10-8a81-dd6300f97998",
   "metadata": {},
   "outputs": [
    {
     "data": {
      "text/plain": [
       "(498, 12)"
      ]
     },
     "execution_count": 22,
     "metadata": {},
     "output_type": "execute_result"
    }
   ],
   "source": [
    "scalled = ss.fit_transform(df_num)\n",
    "\n",
    "df_111 = pd.DataFrame(scalled,columns=df_num.columns)\n",
    "\n",
    "df_scalled = df_111.reset_index()\n",
    "df_scalled.shape"
   ]
  },
  {
   "cell_type": "code",
   "execution_count": 24,
   "id": "3d2e77a5-c5fa-4d7f-8a4d-a93af3132205",
   "metadata": {},
   "outputs": [],
   "source": [
    "concat = pd.concat([encoding,df_scalled],axis=1)"
   ]
  },
  {
   "cell_type": "code",
   "execution_count": 26,
   "id": "d976aaa1-b384-4eb6-b6b9-1cc3d21b354c",
   "metadata": {},
   "outputs": [
    {
     "data": {
      "text/plain": [
       "(498, 19)"
      ]
     },
     "execution_count": 26,
     "metadata": {},
     "output_type": "execute_result"
    }
   ],
   "source": [
    "concat.shape"
   ]
  },
  {
   "cell_type": "code",
   "execution_count": 28,
   "id": "ecad67a1-272b-465b-a164-ff6a89339251",
   "metadata": {},
   "outputs": [],
   "source": [
    "#split the data\n",
    "x_train,x_test,y_train,y_test=train_test_split(concat,df_target,test_size=0.2)\n"
   ]
  },
  {
   "cell_type": "code",
   "execution_count": 30,
   "id": "6dfa1b6a-f518-498b-a7ca-33a90fff3b8d",
   "metadata": {},
   "outputs": [],
   "source": [
    "# import the model\n",
    "from sklearn.tree import DecisionTreeClassifier\n",
    "from sklearn.metrics import classification_report"
   ]
  },
  {
   "cell_type": "code",
   "execution_count": 32,
   "id": "0546c106-42ce-45e1-b926-71f9c638a59f",
   "metadata": {},
   "outputs": [
    {
     "name": "stdout",
     "output_type": "stream",
     "text": [
      "              precision    recall  f1-score   support\n",
      "\n",
      "           0       0.65      0.68      0.67        57\n",
      "           1       0.55      0.51      0.53        43\n",
      "\n",
      "    accuracy                           0.61       100\n",
      "   macro avg       0.60      0.60      0.60       100\n",
      "weighted avg       0.61      0.61      0.61       100\n",
      "\n"
     ]
    }
   ],
   "source": [
    "#create a decision tree classification\n",
    "tree_model=DecisionTreeClassifier()\n",
    "\n",
    "#fit the model to the training data\n",
    "tree_model.fit(x_train,y_train)\n",
    "\n",
    "# predict on the testing data\n",
    "predictions=tree_model.predict(x_test)\n",
    "\n",
    "#calculate the classification_report\n",
    "class_report = classification_report(y_test,predictions)\n",
    "print(class_report)"
   ]
  },
  {
   "cell_type": "code",
   "execution_count": null,
   "id": "4246d812-e883-4051-86d9-2f688a765f2a",
   "metadata": {},
   "outputs": [],
   "source": []
  }
 ],
 "metadata": {
  "kernelspec": {
   "display_name": "Python 3 (ipykernel)",
   "language": "python",
   "name": "python3"
  },
  "language_info": {
   "codemirror_mode": {
    "name": "ipython",
    "version": 3
   },
   "file_extension": ".py",
   "mimetype": "text/x-python",
   "name": "python",
   "nbconvert_exporter": "python",
   "pygments_lexer": "ipython3",
   "version": "3.11.7"
  }
 },
 "nbformat": 4,
 "nbformat_minor": 5
}
